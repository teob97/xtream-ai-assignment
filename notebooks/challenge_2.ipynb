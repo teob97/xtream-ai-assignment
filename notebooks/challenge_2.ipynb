{
 "cells": [
  {
   "cell_type": "markdown",
   "id": "cd71ad5c-d304-4988-beef-f9aa11d8af98",
   "metadata": {},
   "source": [
    "# Dataset: Employee Churn"
   ]
  },
  {
   "cell_type": "markdown",
   "id": "15c0d693-061c-4c26-8ba5-54611b3bff06",
   "metadata": {},
   "source": [
    "**Challenge 2**: Next up, Pear Inc needs a crystal ball to foresee who will staty with them. Develop a model that predicts employee churn, complete with churn probabilities to help Gabriele take timely action. Remember, Gabriele's no fan of black-box machines, and Fabio's looking for proof that your model's magic works."
   ]
  },
  {
   "cell_type": "code",
   "execution_count": null,
   "id": "8a1e05b0-449b-4487-a8d1-45b57e460dfb",
   "metadata": {},
   "outputs": [],
   "source": []
  }
 ],
 "metadata": {
  "kernelspec": {
   "display_name": "Python 3 (ipykernel)",
   "language": "python",
   "name": "python3"
  },
  "language_info": {
   "codemirror_mode": {
    "name": "ipython",
    "version": 3
   },
   "file_extension": ".py",
   "mimetype": "text/x-python",
   "name": "python",
   "nbconvert_exporter": "python",
   "pygments_lexer": "ipython3",
   "version": "3.10.13"
  }
 },
 "nbformat": 4,
 "nbformat_minor": 5
}
