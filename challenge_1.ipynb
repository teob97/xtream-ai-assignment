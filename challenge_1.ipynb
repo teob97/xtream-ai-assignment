{
 "cells": [
  {
   "cell_type": "markdown",
   "id": "39788391-49b0-4a43-89fe-75db4c3a7c43",
   "metadata": {},
   "source": [
    "# Dataset: Employee Churn"
   ]
  },
  {
   "cell_type": "markdown",
   "id": "26a7c035-9537-452d-90d1-96d8f357b650",
   "metadata": {},
   "source": [
    "Your first client is Pear Inc, a multinational company worried about its poor talent retention. Pear has a peculiar hiring strategy. They offer free classes and hire the best students. The strategy is working, but many new hires leave the company after a few months. This is a huge waste of time and money.\n",
    "\n",
    "In the past few months, they collected a dataset with information about their employees and recorded whether they churned or not. Due to the churning period being so short, they are confident that the history of each candidate is enough to predict the churn and the experience is Pear is not relevant.\n",
    "\n",
    "Gabriele, the Head of Talent, is counting on you to put a plug in this problem. And Fabio, an ML Engineer and new colleague of yours, will be eyeing your work too!\n",
    "\n",
    "**Challenge 1**: Pear Inc needs your help to figure out what makes an employee stick versus split. Craft a Jupyter notebook to answer their question. Keep it simple enough for Gabriele but detailed enough to dazzle Fabio."
   ]
  },
  {
   "cell_type": "markdown",
   "id": "b65d1da5-1636-482d-b561-93936bd77ed7",
   "metadata": {},
   "source": [
    "## Library import"
   ]
  },
  {
   "cell_type": "code",
   "execution_count": 1,
   "id": "0113c1a0-2d65-4ab9-b2b1-380d7ec46136",
   "metadata": {},
   "outputs": [],
   "source": [
    "import numpy as np\n",
    "import pandas as pd\n",
    "import seaborn as sns\n",
    "import matplotlib.pyplot as plt\n",
    "import ppscore as pps\n",
    "\n",
    "from ydata_profiling import ProfileReport\n",
    "from sklearn.preprocessing import OneHotEncoder\n",
    "from sklearn.preprocessing import OrdinalEncoder\n",
    "from sklearn.impute import KNNImputer\n",
    "\n",
    "import warnings\n",
    "warnings.filterwarnings(\"ignore\", \"use_inf_as_na\")"
   ]
  },
  {
   "cell_type": "markdown",
   "id": "ee358ecc-015f-41ed-8c37-74040239d16d",
   "metadata": {},
   "source": [
    "## Load data"
   ]
  },
  {
   "cell_type": "code",
   "execution_count": 2,
   "id": "9eba6c4b-3162-4424-8b60-a300b1ccfddc",
   "metadata": {},
   "outputs": [
    {
     "data": {
      "text/html": [
       "<div>\n",
       "<style scoped>\n",
       "    .dataframe tbody tr th:only-of-type {\n",
       "        vertical-align: middle;\n",
       "    }\n",
       "\n",
       "    .dataframe tbody tr th {\n",
       "        vertical-align: top;\n",
       "    }\n",
       "\n",
       "    .dataframe thead th {\n",
       "        text-align: right;\n",
       "    }\n",
       "</style>\n",
       "<table border=\"1\" class=\"dataframe\">\n",
       "  <thead>\n",
       "    <tr style=\"text-align: right;\">\n",
       "      <th></th>\n",
       "      <th>enrollee_id</th>\n",
       "      <th>city</th>\n",
       "      <th>city_development_index</th>\n",
       "      <th>gender</th>\n",
       "      <th>relevent_experience</th>\n",
       "      <th>enrolled_university</th>\n",
       "      <th>education_level</th>\n",
       "      <th>major_discipline</th>\n",
       "      <th>experience</th>\n",
       "      <th>company_size</th>\n",
       "      <th>company_type</th>\n",
       "      <th>last_new_job</th>\n",
       "      <th>training_hours</th>\n",
       "      <th>target</th>\n",
       "    </tr>\n",
       "  </thead>\n",
       "  <tbody>\n",
       "    <tr>\n",
       "      <th>0</th>\n",
       "      <td>8949</td>\n",
       "      <td>city_103</td>\n",
       "      <td>0.920</td>\n",
       "      <td>Male</td>\n",
       "      <td>Has relevent experience</td>\n",
       "      <td>no_enrollment</td>\n",
       "      <td>Graduate</td>\n",
       "      <td>STEM</td>\n",
       "      <td>&gt;20</td>\n",
       "      <td>NaN</td>\n",
       "      <td>NaN</td>\n",
       "      <td>1</td>\n",
       "      <td>36</td>\n",
       "      <td>1.0</td>\n",
       "    </tr>\n",
       "    <tr>\n",
       "      <th>1</th>\n",
       "      <td>29725</td>\n",
       "      <td>city_40</td>\n",
       "      <td>0.776</td>\n",
       "      <td>Male</td>\n",
       "      <td>No relevent experience</td>\n",
       "      <td>no_enrollment</td>\n",
       "      <td>Graduate</td>\n",
       "      <td>STEM</td>\n",
       "      <td>15</td>\n",
       "      <td>50-99</td>\n",
       "      <td>Pvt Ltd</td>\n",
       "      <td>&gt;4</td>\n",
       "      <td>47</td>\n",
       "      <td>0.0</td>\n",
       "    </tr>\n",
       "    <tr>\n",
       "      <th>2</th>\n",
       "      <td>11561</td>\n",
       "      <td>city_21</td>\n",
       "      <td>0.624</td>\n",
       "      <td>NaN</td>\n",
       "      <td>No relevent experience</td>\n",
       "      <td>Full time course</td>\n",
       "      <td>Graduate</td>\n",
       "      <td>STEM</td>\n",
       "      <td>5</td>\n",
       "      <td>NaN</td>\n",
       "      <td>NaN</td>\n",
       "      <td>never</td>\n",
       "      <td>83</td>\n",
       "      <td>0.0</td>\n",
       "    </tr>\n",
       "    <tr>\n",
       "      <th>3</th>\n",
       "      <td>33241</td>\n",
       "      <td>city_115</td>\n",
       "      <td>0.789</td>\n",
       "      <td>NaN</td>\n",
       "      <td>No relevent experience</td>\n",
       "      <td>NaN</td>\n",
       "      <td>Graduate</td>\n",
       "      <td>Business Degree</td>\n",
       "      <td>&lt;1</td>\n",
       "      <td>NaN</td>\n",
       "      <td>Pvt Ltd</td>\n",
       "      <td>never</td>\n",
       "      <td>52</td>\n",
       "      <td>1.0</td>\n",
       "    </tr>\n",
       "    <tr>\n",
       "      <th>4</th>\n",
       "      <td>666</td>\n",
       "      <td>city_162</td>\n",
       "      <td>0.767</td>\n",
       "      <td>Male</td>\n",
       "      <td>Has relevent experience</td>\n",
       "      <td>no_enrollment</td>\n",
       "      <td>Masters</td>\n",
       "      <td>STEM</td>\n",
       "      <td>&gt;20</td>\n",
       "      <td>50-99</td>\n",
       "      <td>Funded Startup</td>\n",
       "      <td>4</td>\n",
       "      <td>8</td>\n",
       "      <td>0.0</td>\n",
       "    </tr>\n",
       "  </tbody>\n",
       "</table>\n",
       "</div>"
      ],
      "text/plain": [
       "   enrollee_id      city  city_development_index gender  \\\n",
       "0         8949  city_103                   0.920   Male   \n",
       "1        29725   city_40                   0.776   Male   \n",
       "2        11561   city_21                   0.624    NaN   \n",
       "3        33241  city_115                   0.789    NaN   \n",
       "4          666  city_162                   0.767   Male   \n",
       "\n",
       "       relevent_experience enrolled_university education_level  \\\n",
       "0  Has relevent experience       no_enrollment        Graduate   \n",
       "1   No relevent experience       no_enrollment        Graduate   \n",
       "2   No relevent experience    Full time course        Graduate   \n",
       "3   No relevent experience                 NaN        Graduate   \n",
       "4  Has relevent experience       no_enrollment         Masters   \n",
       "\n",
       "  major_discipline experience company_size    company_type last_new_job  \\\n",
       "0             STEM        >20          NaN             NaN            1   \n",
       "1             STEM         15        50-99         Pvt Ltd           >4   \n",
       "2             STEM          5          NaN             NaN        never   \n",
       "3  Business Degree         <1          NaN         Pvt Ltd        never   \n",
       "4             STEM        >20        50-99  Funded Startup            4   \n",
       "\n",
       "   training_hours  target  \n",
       "0              36     1.0  \n",
       "1              47     0.0  \n",
       "2              83     0.0  \n",
       "3              52     1.0  \n",
       "4               8     0.0  "
      ]
     },
     "execution_count": 2,
     "metadata": {},
     "output_type": "execute_result"
    }
   ],
   "source": [
    "data_raw = pd.read_csv(\"datasets/employee-churn/churn.csv\")\n",
    "data_raw.head()"
   ]
  },
  {
   "cell_type": "code",
   "execution_count": 3,
   "id": "5541a2cc-842e-4d50-95c4-7b375d594a67",
   "metadata": {},
   "outputs": [
    {
     "name": "stdout",
     "output_type": "stream",
     "text": [
      "<class 'pandas.core.frame.DataFrame'>\n",
      "RangeIndex: 19158 entries, 0 to 19157\n",
      "Data columns (total 14 columns):\n",
      " #   Column                  Non-Null Count  Dtype  \n",
      "---  ------                  --------------  -----  \n",
      " 0   enrollee_id             19158 non-null  int64  \n",
      " 1   city                    19158 non-null  object \n",
      " 2   city_development_index  19158 non-null  float64\n",
      " 3   gender                  14650 non-null  object \n",
      " 4   relevent_experience     19158 non-null  object \n",
      " 5   enrolled_university     18772 non-null  object \n",
      " 6   education_level         18698 non-null  object \n",
      " 7   major_discipline        16345 non-null  object \n",
      " 8   experience              19093 non-null  object \n",
      " 9   company_size            13220 non-null  object \n",
      " 10  company_type            13018 non-null  object \n",
      " 11  last_new_job            18735 non-null  object \n",
      " 12  training_hours          19158 non-null  int64  \n",
      " 13  target                  19158 non-null  float64\n",
      "dtypes: float64(2), int64(2), object(10)\n",
      "memory usage: 2.0+ MB\n"
     ]
    }
   ],
   "source": [
    "data_raw.info()"
   ]
  },
  {
   "cell_type": "markdown",
   "id": "1e852e40-3ccf-401b-a411-74d7bb9f7c8e",
   "metadata": {},
   "source": [
    "### Features\n",
    "\n",
    "- enrollee_id: Unique ID for candidate \n",
    "- city: City code \n",
    "- city_development_index: Development index of the city (scaled)\n",
    "- gender: Gender of candidate \n",
    "- relevant_experience: Relevant experience of candidate \n",
    "- enrolled_university: Type of University course enrolled if any \n",
    "- education_level: Education level of candidate \n",
    "- major_discipline: Education discipline of candidate \n",
    "- experience: Candidate total experience in years \n",
    "- company_size: Number of employees in current employer's company \n",
    "- company_type: Type of current employer \n",
    "- last_new_job: Difference in years between previous job and current job \n",
    "- training_hours: training hours completed \n",
    "- target: 0 – Not looking for job change, 1 – Looking for a job change"
   ]
  },
  {
   "cell_type": "markdown",
   "id": "33087112-d346-465a-858f-d8676ac0fa5a",
   "metadata": {},
   "source": [
    "## Menage NaN values"
   ]
  },
  {
   "cell_type": "markdown",
   "id": "65b027ec-a27c-467f-bffc-8de2038ffbd0",
   "metadata": {},
   "source": [
    "Lets see the **percentage of missing values** in every columns."
   ]
  },
  {
   "cell_type": "code",
   "execution_count": 4,
   "id": "b129ffaa-15b6-4f2c-bbba-e7db54f9a2cf",
   "metadata": {},
   "outputs": [
    {
     "data": {
      "text/plain": [
       "enrollee_id                0.000000\n",
       "city                       0.000000\n",
       "city_development_index     0.000000\n",
       "gender                    23.530640\n",
       "relevent_experience        0.000000\n",
       "enrolled_university        2.014824\n",
       "education_level            2.401086\n",
       "major_discipline          14.683161\n",
       "experience                 0.339284\n",
       "company_size              30.994885\n",
       "company_type              32.049274\n",
       "last_new_job               2.207955\n",
       "training_hours             0.000000\n",
       "target                     0.000000\n",
       "dtype: float64"
      ]
     },
     "execution_count": 4,
     "metadata": {},
     "output_type": "execute_result"
    }
   ],
   "source": [
    "data_raw.isna().sum()/len(data_raw)*100"
   ]
  },
  {
   "cell_type": "markdown",
   "id": "6866f9a6-cdb0-45c8-9867-a2fb07d0a7fd",
   "metadata": {},
   "source": [
    "### First approach: try to remove all the missing values"
   ]
  },
  {
   "cell_type": "markdown",
   "id": "fd65410d-ed7b-475f-8d6d-cc17b489a34e",
   "metadata": {},
   "source": [
    "Let us evaluate the percentage of information that would be lost by removing all of the rows with at least one NaN values:"
   ]
  },
  {
   "cell_type": "code",
   "execution_count": 5,
   "id": "facec32a-87d3-43ca-a9bc-2e0eb9ffe12e",
   "metadata": {},
   "outputs": [
    {
     "data": {
      "text/plain": [
       "0.5325712496085186"
      ]
     },
     "execution_count": 5,
     "metadata": {},
     "output_type": "execute_result"
    }
   ],
   "source": [
    "1 - (len(data_raw.dropna())/len(data_raw))"
   ]
  },
  {
   "cell_type": "markdown",
   "id": "e82a921c-6b09-4b1b-9bf1-2d08b58e2dd2",
   "metadata": {},
   "source": [
    "This does not appear to be an advantageous choice because more than half of the dataset would be eliminated."
   ]
  },
  {
   "cell_type": "markdown",
   "id": "e93ea010-6044-4ddd-8b5e-75f7c5e2cf2f",
   "metadata": {},
   "source": [
    "### Preprocessing data"
   ]
  },
  {
   "cell_type": "markdown",
   "id": "e9450496-89c9-4632-a7e0-9b54fde8d3cf",
   "metadata": {},
   "source": [
    "It is necessary to convert categorical data (i.e. words and frases) into numerical data. To do so I decided to use both `sklearn.preprocessing.OrdinalEncoder` and `sklearn.preprocessing.OneHotEncoder`.\n",
    "\n",
    "**explain the differencies and the two use cases**"
   ]
  },
  {
   "cell_type": "code",
   "execution_count": 6,
   "id": "21b5fa79-a2bc-4fc7-b47d-9d4e8116cb31",
   "metadata": {},
   "outputs": [],
   "source": [
    "education_level_labels = ['Primary School', 'High School', 'Graduate', 'Masters', 'Phd']\n",
    "experience_labels = ['<1','2','3','4','5','6','7','8','9','10','11','12','13','14','15','16','17','18','19','20','>20']\n",
    "company_size_labels = ['<10', '10/49', '50-99', '100-500', '500-999', '1000-4999', '5000-9999', '10000+']\n",
    "last_new_job_labels = ['never','1','2','3','4','>4']"
   ]
  },
  {
   "cell_type": "code",
   "execution_count": 36,
   "id": "9105200b-e8ed-4898-96aa-bfefbd4979fd",
   "metadata": {},
   "outputs": [],
   "source": [
    "def data_encoding(df_raw:pd.DataFrame):\n",
    "    df = df_raw.copy()\n",
    "\n",
    "    df['city'] = df['city'].str.split('_').str[1].astype('float')\n",
    "\n",
    "    df['education_level'] = OrdinalEncoder(\n",
    "        categories = [['Primary School', 'High School', 'Graduate', 'Masters', 'Phd']],\n",
    "        handle_unknown = 'use_encoded_value',\n",
    "        unknown_value = np.nan,\n",
    "    ).fit_transform(df[['education_level']])\n",
    "    \n",
    "    df['experience'] = OrdinalEncoder(\n",
    "        categories = [['<1','2','3','4','5','6','7','8','9','10','11','12','13','14','15','16','17','18','19','20','>20']],\n",
    "        handle_unknown = 'use_encoded_value',\n",
    "        unknown_value = np.nan,\n",
    "    ).fit_transform(df[['experience']])\n",
    "\n",
    "    df['company_size'] = OrdinalEncoder(\n",
    "        categories = [['<10', '10/49', '50-99', '100-500', '500-999', '1000-4999', '5000-9999', '10000+']],\n",
    "        handle_unknown = 'use_encoded_value',\n",
    "        unknown_value = np.nan,\n",
    "    ).fit_transform(df[['company_size']])    \n",
    "    \n",
    "    df['last_new_job'] = OrdinalEncoder(\n",
    "        categories = [['never','1','2','3','4','>4']],\n",
    "        handle_unknown = 'use_encoded_value',\n",
    "        unknown_value = np.nan,\n",
    "    ).fit_transform(df[['last_new_job']])    \n",
    "\n",
    "    df['relevent_experience'] = df['relevent_experience'] == 'Has relevent experience'\n",
    "    \n",
    "    return df "
   ]
  },
  {
   "cell_type": "code",
   "execution_count": 37,
   "id": "06fd2809-33d2-45e9-88cf-353ba10ff499",
   "metadata": {},
   "outputs": [
    {
     "data": {
      "text/html": [
       "<div>\n",
       "<style scoped>\n",
       "    .dataframe tbody tr th:only-of-type {\n",
       "        vertical-align: middle;\n",
       "    }\n",
       "\n",
       "    .dataframe tbody tr th {\n",
       "        vertical-align: top;\n",
       "    }\n",
       "\n",
       "    .dataframe thead th {\n",
       "        text-align: right;\n",
       "    }\n",
       "</style>\n",
       "<table border=\"1\" class=\"dataframe\">\n",
       "  <thead>\n",
       "    <tr style=\"text-align: right;\">\n",
       "      <th></th>\n",
       "      <th>enrollee_id</th>\n",
       "      <th>city</th>\n",
       "      <th>city_development_index</th>\n",
       "      <th>gender</th>\n",
       "      <th>relevent_experience</th>\n",
       "      <th>enrolled_university</th>\n",
       "      <th>education_level</th>\n",
       "      <th>major_discipline</th>\n",
       "      <th>experience</th>\n",
       "      <th>company_size</th>\n",
       "      <th>company_type</th>\n",
       "      <th>last_new_job</th>\n",
       "      <th>training_hours</th>\n",
       "      <th>target</th>\n",
       "    </tr>\n",
       "  </thead>\n",
       "  <tbody>\n",
       "    <tr>\n",
       "      <th>0</th>\n",
       "      <td>8949</td>\n",
       "      <td>103.0</td>\n",
       "      <td>0.920</td>\n",
       "      <td>Male</td>\n",
       "      <td>True</td>\n",
       "      <td>no_enrollment</td>\n",
       "      <td>2.0</td>\n",
       "      <td>STEM</td>\n",
       "      <td>20.0</td>\n",
       "      <td>NaN</td>\n",
       "      <td>NaN</td>\n",
       "      <td>1.0</td>\n",
       "      <td>36</td>\n",
       "      <td>1.0</td>\n",
       "    </tr>\n",
       "    <tr>\n",
       "      <th>1</th>\n",
       "      <td>29725</td>\n",
       "      <td>40.0</td>\n",
       "      <td>0.776</td>\n",
       "      <td>Male</td>\n",
       "      <td>False</td>\n",
       "      <td>no_enrollment</td>\n",
       "      <td>2.0</td>\n",
       "      <td>STEM</td>\n",
       "      <td>14.0</td>\n",
       "      <td>2.0</td>\n",
       "      <td>Pvt Ltd</td>\n",
       "      <td>5.0</td>\n",
       "      <td>47</td>\n",
       "      <td>0.0</td>\n",
       "    </tr>\n",
       "    <tr>\n",
       "      <th>2</th>\n",
       "      <td>11561</td>\n",
       "      <td>21.0</td>\n",
       "      <td>0.624</td>\n",
       "      <td>NaN</td>\n",
       "      <td>False</td>\n",
       "      <td>Full time course</td>\n",
       "      <td>2.0</td>\n",
       "      <td>STEM</td>\n",
       "      <td>4.0</td>\n",
       "      <td>NaN</td>\n",
       "      <td>NaN</td>\n",
       "      <td>0.0</td>\n",
       "      <td>83</td>\n",
       "      <td>0.0</td>\n",
       "    </tr>\n",
       "    <tr>\n",
       "      <th>3</th>\n",
       "      <td>33241</td>\n",
       "      <td>115.0</td>\n",
       "      <td>0.789</td>\n",
       "      <td>NaN</td>\n",
       "      <td>False</td>\n",
       "      <td>NaN</td>\n",
       "      <td>2.0</td>\n",
       "      <td>Business Degree</td>\n",
       "      <td>0.0</td>\n",
       "      <td>NaN</td>\n",
       "      <td>Pvt Ltd</td>\n",
       "      <td>0.0</td>\n",
       "      <td>52</td>\n",
       "      <td>1.0</td>\n",
       "    </tr>\n",
       "    <tr>\n",
       "      <th>4</th>\n",
       "      <td>666</td>\n",
       "      <td>162.0</td>\n",
       "      <td>0.767</td>\n",
       "      <td>Male</td>\n",
       "      <td>True</td>\n",
       "      <td>no_enrollment</td>\n",
       "      <td>3.0</td>\n",
       "      <td>STEM</td>\n",
       "      <td>20.0</td>\n",
       "      <td>2.0</td>\n",
       "      <td>Funded Startup</td>\n",
       "      <td>4.0</td>\n",
       "      <td>8</td>\n",
       "      <td>0.0</td>\n",
       "    </tr>\n",
       "  </tbody>\n",
       "</table>\n",
       "</div>"
      ],
      "text/plain": [
       "   enrollee_id   city  city_development_index gender  relevent_experience  \\\n",
       "0         8949  103.0                   0.920   Male                 True   \n",
       "1        29725   40.0                   0.776   Male                False   \n",
       "2        11561   21.0                   0.624    NaN                False   \n",
       "3        33241  115.0                   0.789    NaN                False   \n",
       "4          666  162.0                   0.767   Male                 True   \n",
       "\n",
       "  enrolled_university  education_level major_discipline  experience  \\\n",
       "0       no_enrollment              2.0             STEM        20.0   \n",
       "1       no_enrollment              2.0             STEM        14.0   \n",
       "2    Full time course              2.0             STEM         4.0   \n",
       "3                 NaN              2.0  Business Degree         0.0   \n",
       "4       no_enrollment              3.0             STEM        20.0   \n",
       "\n",
       "   company_size    company_type  last_new_job  training_hours  target  \n",
       "0           NaN             NaN           1.0              36     1.0  \n",
       "1           2.0         Pvt Ltd           5.0              47     0.0  \n",
       "2           NaN             NaN           0.0              83     0.0  \n",
       "3           NaN         Pvt Ltd           0.0              52     1.0  \n",
       "4           2.0  Funded Startup           4.0               8     0.0  "
      ]
     },
     "execution_count": 37,
     "metadata": {},
     "output_type": "execute_result"
    }
   ],
   "source": [
    "data_encoded = data_encoding(data_raw)\n",
    "data_encoded.head()"
   ]
  },
  {
   "cell_type": "code",
   "execution_count": 10,
   "id": "83446948-0da8-4899-be3f-6261ee1e88e4",
   "metadata": {},
   "outputs": [
    {
     "data": {
      "image/png": "[encoded data removed]",
      "text/plain": [
       "<Figure size 1200x400 with 2 Axes>"
      ]
     },
     "metadata": {},
     "output_type": "display_data"
    }
   ],
   "source": [
    "_, axs = plt.subplots(1,2, figsize=(12,4))\n",
    "g1 = sns.countplot(data_encoded[data_encoded['major_discipline'].isna()], x='education_level', ax = axs[0])\n",
    "g1.set_title('Educational level for unknown major')\n",
    "g1.set_xticklabels(education_level_labels[:-1])\n",
    "g2 = sns.countplot(data_encoded[data_encoded['company_type'].isna()], x='last_new_job', ax = axs[1])\n",
    "g2.set_title('Last new job for unknown Company type')\n",
    "g2.set_xticklabels(last_new_job_labels)\n",
    "plt.show()"
   ]
  },
  {
   "cell_type": "code",
   "execution_count": 27,
   "id": "8bd89df1-991b-4a5a-8bcf-6f55d54d1fde",
   "metadata": {},
   "outputs": [],
   "source": [
    "def data_preprocessing(df_raw:pd.DataFrame):\n",
    "\n",
    "    df = df_raw.copy()\n",
    "\n",
    "    df['major_discipline'] = ['No Major' if (pd.isnull(i) and df['education_level'][index]<2) else i for index, i in enumerate(df['major_discipline'])]\n",
    "    df['company_type'] = ['None' if (pd.isnull(i) and df['last_new_job'][index]==0) else i for index, i in enumerate(df['company_type'])]\n",
    "    df['company_size'] = [0 if (pd.isnull(i) and df['last_new_job'][index]==0) else i for index, i in enumerate(df['company_size'])]\n",
    "    \n",
    "    #df['target'] = df['target'].astype(str)\n",
    "    \n",
    "    return df"
   ]
  },
  {
   "cell_type": "code",
   "execution_count": 28,
   "id": "f867c0c7-2426-4710-b7d5-798432af23ac",
   "metadata": {},
   "outputs": [
    {
     "data": {
      "text/plain": [
       "enrollee_id                0.000000\n",
       "city                       0.000000\n",
       "city_development_index     0.000000\n",
       "gender                    23.530640\n",
       "relevent_experience        0.000000\n",
       "enrolled_university        2.014824\n",
       "education_level            2.401086\n",
       "major_discipline           2.547239\n",
       "experience                 3.204927\n",
       "company_size              21.693287\n",
       "company_type              23.723771\n",
       "last_new_job               2.207955\n",
       "training_hours             0.000000\n",
       "target                     0.000000\n",
       "dtype: float64"
      ]
     },
     "execution_count": 28,
     "metadata": {},
     "output_type": "execute_result"
    }
   ],
   "source": [
    "data = data_preprocessing(data_encoded)\n",
    "data.isna().sum()/len(data_raw)*100"
   ]
  },
  {
   "cell_type": "code",
   "execution_count": 29,
   "id": "117125f7-40d8-4dba-aa5a-03496fa4b12b",
   "metadata": {},
   "outputs": [
    {
     "data": {
      "text/plain": [
       "0.45135191564881516"
      ]
     },
     "execution_count": 29,
     "metadata": {},
     "output_type": "execute_result"
    }
   ],
   "source": [
    "1 - (len(data.dropna())/len(data_raw))"
   ]
  },
  {
   "cell_type": "code",
   "execution_count": null,
   "id": "97784a79-5296-42e0-883e-585fb62b0cb6",
   "metadata": {},
   "outputs": [],
   "source": []
  },
  {
   "cell_type": "code",
   "execution_count": 38,
   "id": "f94fc8cf-e8e4-4e76-9572-8e6bb9f349e6",
   "metadata": {},
   "outputs": [
    {
     "data": {
      "text/plain": [
       "array(['Male', nan, 'Female', 'Other'], dtype=object)"
      ]
     },
     "execution_count": 38,
     "metadata": {},
     "output_type": "execute_result"
    }
   ],
   "source": [
    "# è possibile ignorere la colonna del genere? \n",
    "data.gender.unique()"
   ]
  },
  {
   "cell_type": "code",
   "execution_count": 40,
   "id": "15a5a726-f5fa-475f-a97b-ead4dc9cc5df",
   "metadata": {},
   "outputs": [
    {
     "data": {
      "text/plain": [
       "(0.2633279483037157, 0.22781937826185614, 0.2617801047120419)"
      ]
     },
     "execution_count": 40,
     "metadata": {},
     "output_type": "execute_result"
    }
   ],
   "source": [
    "female = data.loc[data.gender == 'Female'][\"target\"]\n",
    "male = data.loc[data.gender == 'Male'][\"target\"]\n",
    "other = data.loc[data.gender == 'Other'][\"target\"]\n",
    "\n",
    "rate_female = sum(female)/len(female)\n",
    "rate_male = sum(male)/len(male)\n",
    "rate_other = sum(other)/len(other)\n",
    "\n",
    "rate_female, rate_male, rate_other"
   ]
  },
  {
   "cell_type": "code",
   "execution_count": 15,
   "id": "436e8827-7c8f-4585-910a-2a9ac53bf7e2",
   "metadata": {},
   "outputs": [],
   "source": [
    "#imputer = KNNImputer(n_neighbors=5, weights='uniform', metric='nan_euclidean')\n",
    "#imputer.fit(data_dummies)\n",
    "#data_filled = imputer.transform(data_dummies)\n",
    "#data_filled = pd.DataFrame(data_filled, columns=data_dummies.columns)\n",
    "#data_filled.isnull().values.any()"
   ]
  },
  {
   "cell_type": "code",
   "execution_count": 16,
   "id": "0cb2f680-4061-41fd-9385-4d61e7d9aa9c",
   "metadata": {},
   "outputs": [],
   "source": [
    "#data_final = pd.from_dummies(data_filled)\n",
    "#data_final.head()"
   ]
  },
  {
   "cell_type": "code",
   "execution_count": 17,
   "id": "a9174d82-fd88-4e95-b044-a425a0bd679d",
   "metadata": {},
   "outputs": [],
   "source": [
    "#profile = ProfileReport(data, title=\"Profiling Report\")\n",
    "#profile"
   ]
  },
  {
   "cell_type": "code",
   "execution_count": null,
   "id": "7083b32c-4fc6-4087-b5cd-33fdc1d0626f",
   "metadata": {},
   "outputs": [],
   "source": []
  }
 ],
 "metadata": {
  "kernelspec": {
   "display_name": "Python 3 (ipykernel)",
   "language": "python",
   "name": "python3"
  },
  "language_info": {
   "codemirror_mode": {
    "name": "ipython",
    "version": 3
   },
   "file_extension": ".py",
   "mimetype": "text/x-python",
   "name": "python",
   "nbconvert_exporter": "python",
   "pygments_lexer": "ipython3",
   "version": "3.10.13"
  }
 },
 "nbformat": 4,
 "nbformat_minor": 5
}
