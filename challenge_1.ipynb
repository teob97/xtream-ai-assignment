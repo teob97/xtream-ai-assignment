{
 "cells": [
  {
   "cell_type": "markdown",
   "id": "39788391-49b0-4a43-89fe-75db4c3a7c43",
   "metadata": {},
   "source": [
    "# Dataset: Employee Churn"
   ]
  },
  {
   "cell_type": "markdown",
   "id": "26a7c035-9537-452d-90d1-96d8f357b650",
   "metadata": {},
   "source": [
    "Your first client is Pear Inc, a multinational company worried about its poor talent retention. Pear has a peculiar hiring strategy. They offer free classes and hire the best students. The strategy is working, but many new hires leave the company after a few months. This is a huge waste of time and money.\n",
    "\n",
    "In the past few months, they collected a dataset with information about their employees and recorded whether they churned or not. Due to the churning period being so short, they are confident that the history of each candidate is enough to predict the churn and the experience is Pear is not relevant.\n",
    "\n",
    "Gabriele, the Head of Talent, is counting on you to put a plug in this problem. And Fabio, an ML Engineer and new colleague of yours, will be eyeing your work too!\n",
    "\n",
    "**Challenge 1**: Pear Inc needs your help to figure out what makes an employee stick versus split. Craft a Jupyter notebook to answer their question. Keep it simple enough for Gabriele but detailed enough to dazzle Fabio."
   ]
  },
  {
   "cell_type": "code",
   "execution_count": null,
   "id": "8503f460-10dc-45bd-ac0b-3ca26105da48",
   "metadata": {},
   "outputs": [],
   "source": []
  }
 ],
 "metadata": {
  "kernelspec": {
   "display_name": "Python 3 (ipykernel)",
   "language": "python",
   "name": "python3"
  },
  "language_info": {
   "codemirror_mode": {
    "name": "ipython",
    "version": 3
   },
   "file_extension": ".py",
   "mimetype": "text/x-python",
   "name": "python",
   "nbconvert_exporter": "python",
   "pygments_lexer": "ipython3",
   "version": "3.12.0"
  }
 },
 "nbformat": 4,
 "nbformat_minor": 5
}
